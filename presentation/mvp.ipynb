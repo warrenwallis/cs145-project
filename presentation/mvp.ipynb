{
 "cells": [
  {
   "cell_type": "code",
   "execution_count": 1,
   "id": "36e77332",
   "metadata": {},
   "outputs": [],
   "source": [
    "from tkinter import *\n",
    "import sklearn, numpy as np, scipy as scp, pandas as pd, matplotlib.pyplot as plt, matplotlib\n",
    "from sklearn.model_selection import train_test_split\n",
    "from sklearn.preprocessing import MinMaxScaler, Binarizer\n",
    "from sklearn.linear_model import LogisticRegression\n",
    "import yfinance as yf\n",
    "\n",
    "from sklearn.pipeline import Pipeline\n",
    "from sklearn.preprocessing import StandardScaler, OneHotEncoder, Normalizer, MinMaxScaler\n",
    "from sklearn.compose import ColumnTransformer, make_column_transformer\n",
    "\n",
    "margin = 0"
   ]
  },
  {
   "cell_type": "code",
   "execution_count": 2,
   "id": "5470fc47",
   "metadata": {},
   "outputs": [],
   "source": [
    "root = Tk()\n",
    "frame = Frame(root)\n",
    "frame.pack()\n",
    "bottomframe = Frame(root)\n",
    "\n",
    "def setTesla():\n",
    "    global comp\n",
    "    comp = 'TSLA'\n",
    "def setApple():\n",
    "    global comp\n",
    "    comp = 'AAPL'\n",
    "def setBoeing():\n",
    "    global comp\n",
    "    comp = 'BA'\n",
    "\n",
    "comp = ''\n",
    "bottomframe.pack( side = BOTTOM )\n",
    "redbutton = Button(frame, text = 'TSLA', fg = 'black', width = 25, command = setTesla)\n",
    "redbutton.pack( side = LEFT)\n",
    "greenbutton = Button(frame, text = 'AAPL', fg = 'black', width = 25, command = setApple)\n",
    "greenbutton.pack( side = LEFT )\n",
    "bluebutton = Button(frame, text = 'BA', fg = 'black', width = 25, command = setBoeing)\n",
    "bluebutton.pack( side = LEFT )\n",
    "\n",
    "var_start, var_end = DoubleVar(), DoubleVar()\n",
    "label_historicalRange = Label(root, text = 'Historical Range: ')\n",
    "label_historicalRange.pack()\n",
    "label_historicalRange = Label(root, text = 'Start- ')\n",
    "label_historicalRange.pack()\n",
    "scale_start = Scale(root, from_=-365, to=0, orient=HORIZONTAL, variable = var_start)\n",
    "scale_start.pack()\n",
    "label_historicalRange = Label(root, text = 'End- ')\n",
    "label_historicalRange.pack()\n",
    "scale_end = Scale(root, from_=-365, to=0, orient=HORIZONTAL, variable = var_end)\n",
    "scale_end.pack()\n",
    "\n",
    "label_parameters = Label(root, text = 'Include: ').pack()\n",
    "var1 = IntVar()\n",
    "Checkbutton(root, text='Volume', variable=var1).pack()\n",
    "\n",
    "def quit():\n",
    "    root.quit()\n",
    "\n",
    "button_quit = Button(root, text = 'Train', fg = 'black', command = quit).pack()\n",
    "\n",
    "root.mainloop()"
   ]
  },
  {
   "cell_type": "code",
   "execution_count": 3,
   "id": "6516a5f6",
   "metadata": {},
   "outputs": [
    {
     "name": "stdout",
     "output_type": "stream",
     "text": [
      "BA\n",
      "[[ 1.23606907  1.23977152  1.24820861  1.20653325 -0.54807603]]\n",
      "Accuracy:    0.714286\n",
      "We predict today would be a good day to buy\n"
     ]
    }
   ],
   "source": [
    "print(comp)\n",
    "my_comp = yf.Ticker(comp)\n",
    "data = my_comp.history(period='1y')\n",
    "data = data[['Open', 'High', 'Low', 'Close', 'Volume']]\n",
    "data['close_yesterday'] = data['Close'].shift(1, fill_value=0)\n",
    "\n",
    "data['volume_yesterday'] = data['Volume'].shift(1, fill_value = 0)\n",
    "\n",
    "data['target_value'] = data.apply(lambda row: row.Close - row.Open, axis=1)\n",
    "data['target_classifier'] = data.apply(lambda row: 1 if(row.target_value > margin) else 0, axis = 1)\n",
    "data = data.shift(-1)\n",
    "data.drop(data.tail(1).index,inplace=True)\n",
    "y = data['target_classifier']\n",
    "x = data.drop(['target_classifier','Close','Volume','target_value'],axis=1)\n",
    "train_raw, test_raw, target, target_test = train_test_split(x,y, test_size=0.25, random_state=0)\n",
    "pipeline = Pipeline([\n",
    "    ('scaler', StandardScaler())\n",
    "])\n",
    "\n",
    "#Transform raw data \n",
    "train = pipeline.fit_transform(train_raw)\n",
    "test = pipeline.transform(test_raw)\n",
    "lr = LogisticRegression()\n",
    "lr.fit(train,target)\n",
    "predicted = lr.predict(test)\n",
    "#predict_yest = lr.predict()\n",
    "print(train[-1:])\n",
    "yesterday = data[-1:]\n",
    "yesterday = yesterday.drop(['target_classifier','Close','Volume','target_value'],axis=1)\n",
    "yesterday = pipeline.fit_transform(yesterday)\n",
    "predict_yest = lr.predict(yesterday)\n",
    "print(\"%-12s %f\" % ('Accuracy:', sklearn.metrics.accuracy_score(target_test,predicted)))\n",
    "if predict_yest:\n",
    "    print(\"We predict today would be a good day to buy\")\n",
    "else:\n",
    "    print(\"Hold off on purchasing today\")"
   ]
  },
  {
   "cell_type": "code",
   "execution_count": null,
   "id": "e85c82a6",
   "metadata": {},
   "outputs": [],
   "source": []
  }
 ],
 "metadata": {
  "kernelspec": {
   "display_name": "Python 3 (ipykernel)",
   "language": "python",
   "name": "python3"
  },
  "language_info": {
   "codemirror_mode": {
    "name": "ipython",
    "version": 3
   },
   "file_extension": ".py",
   "mimetype": "text/x-python",
   "name": "python",
   "nbconvert_exporter": "python",
   "pygments_lexer": "ipython3",
   "version": "3.9.12"
  }
 },
 "nbformat": 4,
 "nbformat_minor": 5
}
